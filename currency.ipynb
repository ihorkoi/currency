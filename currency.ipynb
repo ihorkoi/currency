{
 "cells": [
  {
   "cell_type": "code",
   "execution_count": null,
   "id": "a5e76975",
   "metadata": {},
   "outputs": [],
   "source": [
    "import requests\n",
    "from requests.exceptions import HTTPError"
   ]
  },
  {
   "cell_type": "code",
   "execution_count": 38,
   "id": "cb06a311",
   "metadata": {},
   "outputs": [],
   "source": [
    "class Currency():\n",
    "    def __init__(self, headers=None, base_currency='USD'):\n",
    "        self.url='https://api.currencyapi.com/v3/latest'\n",
    "        self.base_currency=base_currency\n",
    "        if headers is None:\n",
    "            headers={'apikey': 'cur_live_JZgFOek59tXv7CXYlWUrKn7Z62U18OAp33qxJ4js'}\n",
    "        self.headers = headers\n",
    "\n",
    "    def fetch_data(self):\n",
    "        try:\n",
    "            response = requests.get(self.url, headers=self.headers)\n",
    "            response.raise_for_status()\n",
    "            self.response_json_ = response.json()\n",
    "            return self.response_json_\n",
    "        except HTTPError as err:\n",
    "            print(f\"HTTP error occured: {err}\")\n",
    "\n",
    "    def get_rate(self, currency_from, currency_to):\n",
    "        data = self.fetch_data()['data']\n",
    "        try:\n",
    "            currency_to_value = data[currency_to]['value']\n",
    "            currency_from_value = data[currency_from]['value']\n",
    "\n",
    "            return currency_to_value / currency_from_value\n",
    "        except KeyError:\n",
    "            print('No such currency')\n",
    "    \n",
    "    def convert(self, amount, currency_from, currency_to):\n",
    "        return amount * self.get_rate(currency_from, currency_to)\n",
    "    "
   ]
  },
  {
   "cell_type": "code",
   "execution_count": 39,
   "id": "a9ab4e9a",
   "metadata": {},
   "outputs": [],
   "source": [
    "test = Currency()"
   ]
  },
  {
   "cell_type": "code",
   "execution_count": 41,
   "id": "0063cc59",
   "metadata": {},
   "outputs": [
    {
     "data": {
      "text/plain": [
       "421.21904702300003"
      ]
     },
     "execution_count": 41,
     "metadata": {},
     "output_type": "execute_result"
    }
   ],
   "source": [
    "test.convert(10, 'USD', 'UAH')"
   ]
  },
  {
   "cell_type": "code",
   "execution_count": null,
   "id": "0d8e1090",
   "metadata": {},
   "outputs": [],
   "source": []
  },
  {
   "cell_type": "code",
   "execution_count": null,
   "id": "924881fb",
   "metadata": {},
   "outputs": [],
   "source": []
  },
  {
   "cell_type": "code",
   "execution_count": null,
   "id": "06b3551c",
   "metadata": {},
   "outputs": [],
   "source": []
  }
 ],
 "metadata": {
  "kernelspec": {
   "display_name": "currency",
   "language": "python",
   "name": "python3"
  },
  "language_info": {
   "codemirror_mode": {
    "name": "ipython",
    "version": 3
   },
   "file_extension": ".py",
   "mimetype": "text/x-python",
   "name": "python",
   "nbconvert_exporter": "python",
   "pygments_lexer": "ipython3",
   "version": "3.12.3"
  }
 },
 "nbformat": 4,
 "nbformat_minor": 5
}
